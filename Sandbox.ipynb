{
 "cells": [
  {
   "cell_type": "markdown",
   "id": "9bc66e34",
   "metadata": {},
   "source": [
    "# Testing Environment for sample generations with GANs"
   ]
  },
  {
   "cell_type": "markdown",
   "id": "c6ff66a9",
   "metadata": {},
   "source": [
    "### Import Libraries"
   ]
  },
  {
   "cell_type": "code",
   "execution_count": 1,
   "id": "ed0a3a47",
   "metadata": {},
   "outputs": [],
   "source": [
    "import pandas as pd\n",
    "import torch\n",
    "import torch.nn as nn\n",
    "import tensorflow as tf\n",
    "import numpy as np\n",
    "import os\n",
    "import matplotlib.pyplot as plt\n",
    "from Distribution_Shifting import Distribution_Shifting\n",
    "from GAN_Models import DCGAN\n",
    "from Normalization import Normalizer\n",
    "from BatchSize_Optimization import batch_size_optimization\n",
    "from Evaluation_metrics import p_Wasserstein_distance"
   ]
  },
  {
   "cell_type": "markdown",
   "id": "51971ae1",
   "metadata": {},
   "source": [
    "### Loading Data for each tropical zone  - the datasets are the result of the Prepare_Data.py file ###"
   ]
  },
  {
   "cell_type": "code",
   "execution_count": 2,
   "id": "4c9d8077",
   "metadata": {},
   "outputs": [],
   "source": [
    "cur_dir = os.getcwd()\n",
    "tropical_dataset = pd.read_csv(cur_dir + '\\data\\Tropical_dataset.csv')\n",
    "subtropical_dataset = pd.read_csv(cur_dir + '\\data\\Subtropical_dataset.csv')\n",
    "temperate_dataset = pd.read_csv(cur_dir + '\\data\\Temperate_dataset.csv')\n",
    "polar_dataset = pd.read_csv(cur_dir + '\\data\\Polar_dataset.csv')"
   ]
  },
  {
   "cell_type": "markdown",
   "id": "7db525a1",
   "metadata": {},
   "source": [
    "### Pipeline Class ###"
   ]
  },
  {
   "cell_type": "code",
   "execution_count": 3,
   "id": "aeaff2f9",
   "metadata": {},
   "outputs": [],
   "source": [
    "class pipeline:\n",
    "    def __init__(self, data, normalization_threshold, model, epochs, batch_size=128, Gloss_function=nn.L1Loss,\n",
    "                 Dloss_function=nn.L1Loss):\n",
    "        self.normalization_threshold = normalization_threshold\n",
    "        self.batch_size = batch_size\n",
    "        self.epochs = epochs\n",
    "        self.best_batch_size = None\n",
    "        self.Gloss_function = Gloss_function\n",
    "        self.Dloss_function = Dloss_function\n",
    "        normalizer = Normalizer(data, self.normalization_threshold)\n",
    "        self.data, self.country_thresholds = normalizer.normalize()\n",
    "        if model == 'DCGAN':\n",
    "            self.model = model\n",
    "        else:\n",
    "            raise ValueError(\"Only DCGAN is supported at the moment\")\n",
    "\n",
    "    def batch_optimization(self, epochs=200, batch_size_list=[32, 64, 128, 256, 512], distance ='1-Wasserstein'):\n",
    "        self.best_batch_size = batch_size_optimization(self.data, batch_size_list, epochs, self.model, distance)\n",
    "        self.model = DCGAN(self.data, self.best_batch_size, self.epochs, self.Gloss_function, self.Dloss_function)\n",
    "        \n",
    "    def Distribution_Shifting(self, c, k):\n",
    "        self.shifted_data = Distribution_Shifting(self.data, c, k, self.model)\n",
    "        plt.hist(self.shifted_data, bins='auto',color= 'r')\n",
    "        plt.title(\"Synthetic Data\")\n",
    "        plt.show()\n",
    "        plt.hist(self.data, bins='auto',color = 'r')\n",
    "        plt.title(\"Real Data\")\n",
    "        plt.show()\n",
    "        return self.shifted_data"
   ]
  },
  {
   "cell_type": "markdown",
   "id": "2071fd3f",
   "metadata": {},
   "source": [
    "### Testing on Tropical Dataset ###"
   ]
  },
  {
   "cell_type": "code",
   "execution_count": 4,
   "id": "d554b7c1",
   "metadata": {},
   "outputs": [
    {
     "name": "stdout",
     "output_type": "stream",
     "text": [
      "Data were normalized using the exceedance based method with threshold:  0.3\n"
     ]
    }
   ],
   "source": [
    "pipe = pipeline(tropical_dataset, \n",
    "               normalization_threshold = 0.3,\n",
    "               model = 'DCGAN',\n",
    "               epochs = 200,\n",
    "               batch_size = 128,\n",
    "               Gloss_function= nn.L1Loss,\n",
    "               Dloss_function= nn.L1Loss)"
   ]
  },
  {
   "cell_type": "code",
   "execution_count": 5,
   "id": "1a89aa79",
   "metadata": {},
   "outputs": [
    {
     "name": "stdout",
     "output_type": "stream",
     "text": [
      "Training the GAN with batch size:  64\n",
      "Training the GAN with batch size:  128\n",
      "Training the GAN with batch size:  256\n",
      "The best batch size is 64 with a 1-Wasserstein distance of 37.2676\n"
     ]
    }
   ],
   "source": [
    "pipe.batch_optimization(epochs = 10,\n",
    "                       batch_size_list = [64,128,256],\n",
    "                        distance = '1-Wasserstein')"
   ]
  },
  {
   "cell_type": "code",
   "execution_count": 6,
   "id": "c57e5d49",
   "metadata": {},
   "outputs": [
    {
     "name": "stdout",
     "output_type": "stream",
     "text": [
      "Distribution Shifting Started\n",
      "Iteration:  1\n",
      "The 1-Wasserstein distance between initial dataset and iteration 1 is:  46.751078830620905\n",
      "Iteration:  2\n",
      "The 1-Wasserstein distance between initial dataset and iteration 2 is:  96.11960418313485\n",
      "Iteration:  3\n",
      "The 1-Wasserstein distance between initial dataset and iteration 3 is:  303.57527318501\n"
     ]
    },
    {
     "data": {
      "image/png": "[encoded data removed]",
      "text/plain": [
       "<Figure size 640x480 with 1 Axes>"
      ]
     },
     "metadata": {},
     "output_type": "display_data"
    },
    {
     "data": {
      "image/png": "[encoded data removed]",
      "text/plain": [
       "<Figure size 640x480 with 1 Axes>"
      ]
     },
     "metadata": {},
     "output_type": "display_data"
    },
    {
     "data": {
      "text/plain": [
       "array([  15.07712809,   15.25293177,   15.31888291, ..., 5863.08300781,\n",
       "       5931.546875  , 6194.8359375 ])"
      ]
     },
     "execution_count": 6,
     "metadata": {},
     "output_type": "execute_result"
    }
   ],
   "source": [
    "dist_shifting_parameter = 0.7\n",
    "iterations = 3\n",
    "\n",
    "pipe.Distribution_Shifting(c = dist_shifting_parameter,k = iterations)"
   ]
  }
 ],
 "metadata": {
  "kernelspec": {
   "display_name": "Python 3 (ipykernel)",
   "language": "python",
   "name": "python3"
  },
  "language_info": {
   "codemirror_mode": {
    "name": "ipython",
    "version": 3
   },
   "file_extension": ".py",
   "mimetype": "text/x-python",
   "name": "python",
   "nbconvert_exporter": "python",
   "pygments_lexer": "ipython3",
   "version": "3.10.0"
  }
 },
 "nbformat": 4,
 "nbformat_minor": 5
}
