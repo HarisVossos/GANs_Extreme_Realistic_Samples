{
 "cells": [
  {
   "cell_type": "markdown",
   "id": "9bc66e34",
   "metadata": {},
   "source": [
    "# Testing Environment for sample generations with GANs"
   ]
  },
  {
   "cell_type": "markdown",
   "id": "c6ff66a9",
   "metadata": {},
   "source": [
    "### Import Libraries"
   ]
  },
  {
   "cell_type": "code",
   "execution_count": 1,
   "id": "ed0a3a47",
   "metadata": {},
   "outputs": [
    {
     "name": "stderr",
     "output_type": "stream",
     "text": [
      "C:\\Users\\Haris\\anaconda3\\envs\\pythonProject\\lib\\site-packages\\tqdm\\auto.py:22: TqdmWarning: IProgress not found. Please update jupyter and ipywidgets. See https://ipywidgets.readthedocs.io/en/stable/user_install.html\n",
      "  from .autonotebook import tqdm as notebook_tqdm\n"
     ]
    }
   ],
   "source": [
    "import pandas as pd\n",
    "import torch\n",
    "import torch.nn as nn\n",
    "import tensorflow as tf\n",
    "import numpy as np\n",
    "import os\n",
    "import matplotlib.pyplot as plt\n",
    "from Distribution_Shifting import Distribution_Shifting\n",
    "from GAN_Models import DCGAN\n",
    "from Normalization import Normalizer\n",
    "from BatchSize_Optimization import batch_size_optimization\n",
    "from Evaluation_metrics import p_Wasserstein_distance\n",
    "from scipy.stats import skewnorm, genpareto\n",
    "from Conditional_GAN import Conditional_DCGAN"
   ]
  },
  {
   "cell_type": "markdown",
   "id": "51971ae1",
   "metadata": {},
   "source": [
    "### Loading Data for each tropical zone  - the datasets are the result of the Prepare_Data.py file ###"
   ]
  },
  {
   "cell_type": "code",
   "execution_count": 2,
   "id": "4c9d8077",
   "metadata": {},
   "outputs": [],
   "source": [
    "cur_dir = os.getcwd()\n",
    "tropical_dataset = pd.read_csv(cur_dir + '\\data\\Tropical_dataset.csv')\n",
    "subtropical_dataset = pd.read_csv(cur_dir + '\\data\\Subtropical_dataset.csv')\n",
    "temperate_dataset = pd.read_csv(cur_dir + '\\data\\Temperate_dataset.csv')\n",
    "polar_dataset = pd.read_csv(cur_dir + '\\data\\Polar_dataset.csv')"
   ]
  },
  {
   "cell_type": "markdown",
   "id": "7db525a1",
   "metadata": {},
   "source": [
    "### Pipeline Class ###"
   ]
  },
  {
   "cell_type": "code",
   "execution_count": 3,
   "id": "aeaff2f9",
   "metadata": {},
   "outputs": [],
   "source": [
    "class pipeline:\n",
    "    def __init__(self, data, normalization_threshold, model, epochs, batch_size=128, Gloss_function=nn.L1Loss,\n",
    "                 Dloss_function=nn.L1Loss):\n",
    "        self.normalization_threshold = normalization_threshold\n",
    "        self.batch_size = batch_size\n",
    "        self.epochs = epochs\n",
    "        self.best_batch_size = None\n",
    "        self.Gloss_function = Gloss_function\n",
    "        self.Dloss_function = Dloss_function\n",
    "        normalizer = Normalizer(data, self.normalization_threshold)\n",
    "        self.data, self.country_thresholds, self.countries_size_dict , self.orig_loss_data = normalizer.normalize()\n",
    "        if model == 'DCGAN':\n",
    "            self.model = model\n",
    "        else:\n",
    "            raise ValueError(\"Only DCGAN is supported at the moment\")\n",
    "\n",
    "    def batch_optimization(self, epochs=200, batch_size_list=[32, 64, 128, 256, 512], distance ='1-Wasserstein'):\n",
    "        self.best_batch_size = batch_size_optimization(self.data, batch_size_list, epochs, self.model, distance)\n",
    "        if self.model == \"DCGAN\":\n",
    "            self.model = DCGAN(self.data, self.best_batch_size, self.epochs, self.Gloss_function, self.Dloss_function)\n",
    "        \n",
    "    def Distribution_Shifting(self, c, k):\n",
    "        self.c = c\n",
    "        self.k = k\n",
    "        self.shifted_data = Distribution_Shifting(self.data, c, k, self.model)\n",
    "        return self.shifted_data\n",
    "    \n",
    "    def fit_GPD(self,extremeness_measure):\n",
    "        self.extremeness_measure = extremeness_measure\n",
    "        self.measures = self.extremeness_measure(self.shifted_data)\n",
    "        self.threshold = self.measures.min()\n",
    "        self.tail = self.measures[np.where(self.measures > self.threshold)[0]]\n",
    "        self.genpareto_params = genpareto.fit(self.tail - self.threshold)\n",
    "        \n",
    "    def train_Conditional_GAN(self):\n",
    "        self.conditional_gan = Conditional_DCGAN(data = self.shifted_data,\n",
    "                                                batch_size = self.best_batch_size,\n",
    "                                                epochs = self.epochs,\n",
    "                                                extremeness_measure = self.extremeness_measure,\n",
    "                                                gen_pareto_params = self.genpareto_params,\n",
    "                                                threshold = self.threshold,\n",
    "                                                c = self.c,\n",
    "                                                k = self.k,\n",
    "                                                Gloss_function = self.Gloss_function,\n",
    "                                                Dloss_function = self.Dloss_function)\n",
    "        self.conditional_gan.train()\n",
    "    \n",
    "    def generate_samples(self,country,tau):\n",
    "        try:\n",
    "            number_of_samples = self.countries_size_dict[country]\n",
    "        except:\n",
    "            print(\"This country is not included in this climate zone. Pick another country\")\n",
    "            raise KeyError\n",
    "        \n",
    "        self.country = country\n",
    "        self.gen_samples = self.conditional_gan.generate_samples(number_of_samples,tau)\n",
    "        self.gen_samples = np.array(self.gen_samples).ravel() * self.country_thresholds[country]\n",
    "        \n",
    "        return self.gen_samples\n",
    "    \n",
    "    def plot_distribution_shifting_hist(self):\n",
    "        plt.hist(self.shifted_data, bins=10 ,color= 'red')\n",
    "        plt.title(\"Synthetic Data\")\n",
    "        plt.show()\n",
    "        plt.hist(self.data, bins= 10, color = 'red')\n",
    "        plt.title(\"Real Data\")\n",
    "        plt.show()\n",
    "        \n",
    "    def plot_hist(self):        \n",
    "        plt.hist(self.gen_samples, bins=10 ,color= 'red')\n",
    "        title = \"Synthetic Data Generated for country \" + self.country\n",
    "        plt.title(title)\n",
    "        plt.show()\n",
    "        title2 = \"Real Data for country \" + self.country\n",
    "        plt.hist(self.orig_loss_data[self.country], bins= 10, color = 'red')\n",
    "        plt.title(title2)\n",
    "        plt.show()"
   ]
  },
  {
   "cell_type": "markdown",
   "id": "2071fd3f",
   "metadata": {},
   "source": [
    "### Testing on Tropical Dataset ###"
   ]
  },
  {
   "cell_type": "markdown",
   "id": "81413a6e",
   "metadata": {},
   "source": [
    "### Class Initilization, Dataset Normalization, Batch Optimization, Distribution Shifting ###"
   ]
  },
  {
   "cell_type": "markdown",
   "id": "52a14822",
   "metadata": {},
   "source": [
    "Initilize the class by providing :\n",
    "\n",
    "- Dataset (Tropical, Subtropical, Polar, Temperate)\n",
    "- Normalization Threshold for Exceedance Based Approach\n",
    "- Epochs\n",
    "- GAN model\n",
    "- batch size\n",
    "- Generator & Discriminator Loss Function"
   ]
  },
  {
   "cell_type": "code",
   "execution_count": 4,
   "id": "d554b7c1",
   "metadata": {},
   "outputs": [
    {
     "name": "stdout",
     "output_type": "stream",
     "text": [
      "Data were normalized using the exceedance based method with threshold:  0.3\n"
     ]
    }
   ],
   "source": [
    "pipe = pipeline(tropical_dataset, \n",
    "               normalization_threshold = 0.3,\n",
    "               model = 'DCGAN',\n",
    "               epochs = 150,\n",
    "               batch_size = 128,\n",
    "               Gloss_function= nn.L1Loss,\n",
    "               Dloss_function= nn.L1Loss)"
   ]
  },
  {
   "cell_type": "markdown",
   "id": "14d4abbd",
   "metadata": {},
   "source": [
    "Perform Batch Optimization\n",
    "\n",
    "Input:\n",
    "\n",
    "    1) epochs\n",
    "    2) batch size list\n",
    "    3) distance(evaluation metric)"
   ]
  },
  {
   "cell_type": "code",
   "execution_count": 5,
   "id": "1a89aa79",
   "metadata": {},
   "outputs": [
    {
     "name": "stdout",
     "output_type": "stream",
     "text": [
      "Training the GAN with batch size:  64\n",
      "Training the GAN with batch size:  128\n",
      "Training the GAN with batch size:  256\n",
      "The best batch size is 64 with a 1-Wasserstein distance of 37.6536\n"
     ]
    }
   ],
   "source": [
    "pipe.batch_optimization(epochs = 10,\n",
    "                       batch_size_list = [64,128,256],\n",
    "                        distance = '1-Wasserstein')"
   ]
  },
  {
   "cell_type": "markdown",
   "id": "894661d2",
   "metadata": {},
   "source": [
    "Distribution Shifting - Shift The Bulk of the Distribution to the tails\n",
    "\n",
    "Input:\n",
    "\n",
    "    c = distribution shifting parameter\n",
    "    k = number of iterations"
   ]
  },
  {
   "cell_type": "code",
   "execution_count": 6,
   "id": "c57e5d49",
   "metadata": {},
   "outputs": [
    {
     "name": "stdout",
     "output_type": "stream",
     "text": [
      "Distribution Shifting Started\n",
      "Iteration:  1\n",
      "The 1-Wasserstein distance between initial dataset and iteration 1 is:  211.49735635482935\n",
      "Iteration:  2\n",
      "The 1-Wasserstein distance between initial dataset and iteration 2 is:  867.0289832572569\n",
      "Iteration:  3\n",
      "The 1-Wasserstein distance between initial dataset and iteration 3 is:  1903.960704501519\n"
     ]
    }
   ],
   "source": [
    "dist_shifting_parameter = 0.3\n",
    "iterations = 3\n",
    "\n",
    "synth_data = pipe.Distribution_Shifting(c = dist_shifting_parameter,k = iterations)"
   ]
  },
  {
   "cell_type": "code",
   "execution_count": 7,
   "id": "c999aa50",
   "metadata": {
    "scrolled": false
   },
   "outputs": [
    {
     "data": {
      "image/png": "[encoded data removed]",
      "text/plain": [
       "<Figure size 640x480 with 1 Axes>"
      ]
     },
     "metadata": {},
     "output_type": "display_data"
    },
    {
     "data": {
      "image/png": "[encoded data removed]",
      "text/plain": [
       "<Figure size 640x480 with 1 Axes>"
      ]
     },
     "metadata": {},
     "output_type": "display_data"
    }
   ],
   "source": [
    "pipe.plot_distribution_shifting_hist()"
   ]
  },
  {
   "cell_type": "markdown",
   "id": "5d53bc29",
   "metadata": {},
   "source": [
    "### ExGAN"
   ]
  },
  {
   "cell_type": "markdown",
   "id": "4289e8b3",
   "metadata": {},
   "source": [
    "Define extremeness measure "
   ]
  },
  {
   "cell_type": "code",
   "execution_count": 8,
   "id": "eec8bda0",
   "metadata": {},
   "outputs": [],
   "source": [
    "def extremeness_measure(shifted_data):\n",
    "    shifted_data.sort()\n",
    "    return shifted_data"
   ]
  },
  {
   "cell_type": "markdown",
   "id": "40403106",
   "metadata": {},
   "source": [
    "Fit Generalized Pareto Distribution on Shifted Dataset"
   ]
  },
  {
   "cell_type": "code",
   "execution_count": 9,
   "id": "a8ba1625",
   "metadata": {},
   "outputs": [],
   "source": [
    "pipe.fit_GPD(extremeness_measure)"
   ]
  },
  {
   "cell_type": "markdown",
   "id": "1f9825b9",
   "metadata": {},
   "source": [
    "Train Conditional GAN (G and D) on shifted dataset where the conditioning input for Gs is sampled from a GPD with the parameters estimated above"
   ]
  },
  {
   "cell_type": "code",
   "execution_count": 10,
   "id": "7cdc3601",
   "metadata": {},
   "outputs": [
    {
     "name": "stdout",
     "output_type": "stream",
     "text": [
      "Conditional GAN - Training started\n",
      "Conditional GAN - Training finished\n"
     ]
    }
   ],
   "source": [
    "pipe.train_Conditional_GAN()"
   ]
  },
  {
   "cell_type": "markdown",
   "id": "c1f7c08f",
   "metadata": {},
   "source": [
    "Generate samples given an extremeness probability measure tau"
   ]
  },
  {
   "cell_type": "code",
   "execution_count": 11,
   "id": "f7c4b367",
   "metadata": {
    "scrolled": true
   },
   "outputs": [
    {
     "name": "stdout",
     "output_type": "stream",
     "text": [
      "Number of samples generated:  18\n",
      "Number of iterations:  18\n"
     ]
    }
   ],
   "source": [
    "tau = 0.0001\n",
    "\n",
    "gen_samples = pipe.generate_samples('Hong Kong',tau)"
   ]
  },
  {
   "cell_type": "code",
   "execution_count": 12,
   "id": "9d933feb",
   "metadata": {},
   "outputs": [
    {
     "data": {
      "image/png": "[encoded data removed]",
      "text/plain": [
       "<Figure size 640x480 with 1 Axes>"
      ]
     },
     "metadata": {},
     "output_type": "display_data"
    },
    {
     "data": {
      "image/png": "[encoded data removed]",
      "text/plain": [
       "<Figure size 640x480 with 1 Axes>"
      ]
     },
     "metadata": {},
     "output_type": "display_data"
    }
   ],
   "source": [
    "pipe.plot_hist()"
   ]
  }
 ],
 "metadata": {
  "kernelspec": {
   "display_name": "Python 3 (ipykernel)",
   "language": "python",
   "name": "python3"
  },
  "language_info": {
   "codemirror_mode": {
    "name": "ipython",
    "version": 3
   },
   "file_extension": ".py",
   "mimetype": "text/x-python",
   "name": "python",
   "nbconvert_exporter": "python",
   "pygments_lexer": "ipython3",
   "version": "3.10.0"
  }
 },
 "nbformat": 4,
 "nbformat_minor": 5
}
